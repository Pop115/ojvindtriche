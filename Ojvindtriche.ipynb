{
  "cells": [
    {
      "cell_type": "markdown",
      "metadata": {
        "id": "view-in-github",
        "colab_type": "text"
      },
      "source": [
        "<a href=\"https://colab.research.google.com/github/Pop115/ojvindtriche/blob/main/Ojvindtriche.ipynb\" target=\"_parent\"><img src=\"https://colab.research.google.com/assets/colab-badge.svg\" alt=\"Open In Colab\"/></a>"
      ]
    },
    {
      "cell_type": "markdown",
      "id": "69c341bb-1c98-4651-82da-fc24c102d66d",
      "metadata": {
        "tags": [],
        "id": "69c341bb-1c98-4651-82da-fc24c102d66d"
      },
      "source": [
        "#**Ojvindtriche**\n",
        "\n",
        "Trouve le mot du jour de [ojvindix](https://www.ojvindix.fr/)"
      ]
    },
    {
      "cell_type": "markdown",
      "id": "fead2ccd-ba80-4e43-b025-062e3f74d2d4",
      "metadata": {
        "jp-MarkdownHeadingCollapsed": true,
        "tags": [],
        "id": "fead2ccd-ba80-4e43-b025-062e3f74d2d4"
      },
      "source": [
        "#### Téléchargement du dictionnaire et des vecteurs de mots"
      ]
    },
    {
      "cell_type": "code",
      "execution_count": null,
      "id": "02219175-be61-42d4-a82a-9061f427c8a0",
      "metadata": {
        "id": "02219175-be61-42d4-a82a-9061f427c8a0"
      },
      "outputs": [],
      "source": [
        "!wget https://github.com/lovasoa/cemantriche/releases/download/v0/frWac_non_lem_no_postag_no_phrase_200_cbow_cut100.bin"
      ]
    },
    {
      "cell_type": "code",
      "execution_count": null,
      "id": "e21cbe01-354f-4e70-80a9-aa83dec8bab4",
      "metadata": {
        "id": "e21cbe01-354f-4e70-80a9-aa83dec8bab4"
      },
      "outputs": [],
      "source": [
        "!wget https://github.com/lovasoa/cemantriche/releases/download/v0/lexique-grammalecte-fr-v7.0.txt"
      ]
    },
    {
      "cell_type": "markdown",
      "id": "5ef335ca-cf47-4428-a73c-1a88fbccbcdd",
      "metadata": {
        "id": "5ef335ca-cf47-4428-a73c-1a88fbccbcdd"
      },
      "source": [
        "#### Chargement en mémoire du dictionnaire"
      ]
    },
    {
      "cell_type": "code",
      "source": [
        "!pip install gensim==4.2"
      ],
      "metadata": {
        "id": "h6rYcW04Ir2u"
      },
      "id": "h6rYcW04Ir2u",
      "execution_count": null,
      "outputs": []
    },
    {
      "cell_type": "code",
      "execution_count": null,
      "id": "0588dd38-5a44-4dda-877f-387bcc9c667b",
      "metadata": {
        "id": "0588dd38-5a44-4dda-877f-387bcc9c667b"
      },
      "outputs": [],
      "source": [
        "import numpy as np\n",
        "import pandas as pd"
      ]
    },
    {
      "cell_type": "code",
      "execution_count": null,
      "id": "72ffc5e6-0ac9-4866-89b5-80cb5b1b832f",
      "metadata": {
        "id": "72ffc5e6-0ac9-4866-89b5-80cb5b1b832f"
      },
      "outputs": [],
      "source": [
        "from gensim.models import KeyedVectors\n",
        "model = KeyedVectors.load_word2vec_format(\"frWac_non_lem_no_postag_no_phrase_200_cbow_cut100.bin\", binary=True, unicode_errors=\"ignore\")"
      ]
    },
    {
      "cell_type": "code",
      "execution_count": null,
      "id": "9532ee80-0a6a-430a-9148-2dc164e8a596",
      "metadata": {
        "id": "9532ee80-0a6a-430a-9148-2dc164e8a596"
      },
      "outputs": [],
      "source": [
        "dico = pd.read_csv(\"lexique-grammalecte-fr-v7.0.txt\", skiprows=15, sep='\\t')\n",
        "dico.sort_values(\"Fréquence\", inplace=True)\n",
        "dico = dico[(dico.Fréquence > 1e-5) & (dico.Étiquettes.str.match(\"nom|v[123]|adj\")) & (dico.Lemme.str.len() > 2) & (dico.Flexion == dico.Lemme)]\n",
        "dico = dico[dico.Lemme.isin(model.index_to_key)]\n",
        "dico[[\"Lemme\", \"Fréquence\"]]"
      ]
    },
    {
      "cell_type": "markdown",
      "id": "f9f02e66-5a82-4261-bca5-80d6487314d9",
      "metadata": {
        "id": "f9f02e66-5a82-4261-bca5-80d6487314d9"
      },
      "source": [
        "#### Fonction d'évaluation de la proximité d'un mot au mot du jour"
      ]
    },
    {
      "cell_type": "code",
      "execution_count": null,
      "id": "f7dead5a-b368-46c6-aac6-1a453b3db5df",
      "metadata": {
        "tags": [],
        "id": "f7dead5a-b368-46c6-aac6-1a453b3db5df"
      },
      "outputs": [],
      "source": [
        "import requests\n",
        "import time\n",
        "def req_word(word):\n",
        "    r = requests.post(\"https://www.ojvindix.fr:3001/similarity\", json={\"value\": word}).json()\n",
        "    if \"error\" in r and \"tapez trop vite\" in r[\"error\"]:\n",
        "        time.sleep(.2)\n",
        "        return req_word(word)\n",
        "    return r.get(\"value\", np.nan)"
      ]
    },
    {
      "cell_type": "markdown",
      "id": "d61fef79-facd-4d81-8c8b-d7ceeebc2d34",
      "metadata": {
        "id": "d61fef79-facd-4d81-8c8b-d7ceeebc2d34"
      },
      "source": [
        "#### Recherche du mot secret\n",
        "\n",
        "À chaque étape, on trie les mots du plus cohérent avec les distances obtenues jusqu'ici au moins cohérent,\n",
        "et on essaie le plus cohérent."
      ]
    },
    {
      "cell_type": "code",
      "execution_count": null,
      "id": "41cc49ca-2e98-427d-b0c2-929733f04ca2",
      "metadata": {
        "id": "41cc49ca-2e98-427d-b0c2-929733f04ca2"
      },
      "outputs": [],
      "source": [
        "import time\n",
        "t = time.time()\n",
        "vocab = pd.Series(dico.Fréquence.values, index=dico.Lemme)\n",
        "i = 0\n",
        "while not vocab.empty:\n",
        "    i += 1\n",
        "    word = vocab.idxmax()\n",
        "    print(f\"{i:3d}. J'essaie “{word}”. \", end=\"\")\n",
        "    score = req_word(word)\n",
        "    vocab.drop(index=word, inplace=True)\n",
        "    if np.isnan(score):\n",
        "        print(\" Cémantix ne connaît pas ce mot.\")\n",
        "        continue\n",
        "    if score == 1:\n",
        "        print(f\" GAGNÉ en {time.time() - t:.1f} secondes\")\n",
        "        break\n",
        "    print(f\"Score: {100*score:.2f}.\")\n",
        "    sims = vocab.index.map({\n",
        "        word: sim\n",
        "        for word, sim\n",
        "        in model.most_similar(word, topn=len(model))\n",
        "    })\n",
        "    vocab /= np.abs(score-sims)"
      ]
    }
  ],
  "metadata": {
    "kernelspec": {
      "display_name": "Python 3 (ipykernel)",
      "language": "python",
      "name": "python3"
    },
    "language_info": {
      "codemirror_mode": {
        "name": "ipython",
        "version": 3
      },
      "file_extension": ".py",
      "mimetype": "text/x-python",
      "name": "python",
      "nbconvert_exporter": "python",
      "pygments_lexer": "ipython3",
      "version": "3.10.4"
    },
    "colab": {
      "provenance": [],
      "include_colab_link": true
    }
  },
  "nbformat": 4,
  "nbformat_minor": 5
}